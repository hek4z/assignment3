{
 "cells": [
  {
   "cell_type": "markdown",
   "metadata": {},
   "source": [
    "## Question 5"
   ]
  },
  {
   "cell_type": "code",
   "execution_count": 1,
   "metadata": {},
   "outputs": [],
   "source": [
    "import numpy as np\n",
    "import pandas as pd"
   ]
  },
  {
   "cell_type": "code",
   "execution_count": 165,
   "metadata": {},
   "outputs": [
    {
     "name": "stdout",
     "output_type": "stream",
     "text": [
      "Host Id                         int64\n",
      "Host Since                     object\n",
      "Name                           object\n",
      "Neighbourhood                  object\n",
      "Property Type                  object\n",
      "Review Scores Rating (bin)    float64\n",
      "Room Type                      object\n",
      "Zipcode                       float64\n",
      "Beds                          float64\n",
      "Number of Records               int64\n",
      "Number Of Reviews               int64\n",
      "Price                          object\n",
      "Review Scores Rating          float64\n",
      "dtype: object\n",
      "\n",
      "\n",
      "Host Id                         int64\n",
      "Host Since                     object\n",
      "Name                           object\n",
      "Neighbourhood                  object\n",
      "Property Type                  object\n",
      "Review Scores Rating (bin)    float64\n",
      "Room Type                      object\n",
      "Zipcode                       float64\n",
      "Beds                          float64\n",
      "Number of Records               int64\n",
      "Number Of Reviews               int64\n",
      "Price                           int64\n",
      "Review Scores Rating          float64\n",
      "dtype: object\n",
      "\n",
      "\n",
      "(30478, 13)\n",
      "10000\n",
      "23927\n"
     ]
    }
   ],
   "source": [
    "## Question (1)\n",
    "\n",
    "adf = pd.read_csv('./data/airbnb_hw.csv')\n",
    "print(adf.dtypes)\n",
    "print('\\n')\n",
    "\n",
    "# Price = object   --> converting the column to an integer \n",
    "adf['Price'] = adf['Price'].str.replace(',', '', regex=True)  # removing commas from Price\n",
    "adf['Price'] = adf['Price'].astype(int)    # turning Price from an object to an integer\n",
    "print(adf.dtypes)  # Price is now an integer \n",
    "print('\\n')\n",
    "print(adf.shape)\n",
    "\n",
    "\n",
    "# Beds = float64\n",
    "# Number of reviews = int64\n",
    "# review scores rating = float64\n",
    "\n",
    "\n",
    "# Removing outlier in Price because it's messing with data \n",
    "\n",
    "count = 0\n",
    "for i in adf['Price']:\n",
    "    if i > 9000:\n",
    "        print(i)\n",
    "        print(count)\n",
    "    count += 1\n",
    "\n",
    "# ## adjusted data frame because the outliers are causing problems with the data \n",
    "nadf = adf.drop(23927)"
   ]
  },
  {
   "cell_type": "code",
   "execution_count": 166,
   "metadata": {},
   "outputs": [
    {
     "name": "stdout",
     "output_type": "stream",
     "text": [
      "        Host Id  Host Since                                 Name  \\\n",
      "62         7338    2/2/2009   East Vil  1br in 2br apt + balcony   \n",
      "142       15523    5/1/2009     Enjoy and discover New York Citi   \n",
      "470       61531   12/9/2009                      Red Hook Modern   \n",
      "1821     315654  12/11/2010               AUTHENTIC TRIBECA LOFT   \n",
      "1885     324652  12/21/2010  Large BR+Balcony - West Village Apt   \n",
      "2438     511175   4/15/2011   Room in Spacious East Village Apt.   \n",
      "5105    1510220  12/16/2011              Large Bedroom in 3 Bdrm   \n",
      "5842    1819245   2/27/2012       Huge Room in East Village Loft   \n",
      "6493    2149806   4/16/2012       Cozy Apartment in Williamsburg   \n",
      "7089    2435392   5/22/2012      huge duplex in brownstone (1bd)   \n",
      "7385    2586337    6/9/2012         HUGE w/ Professional Kitchen   \n",
      "7668    2733465   6/24/2012  HUGE SUNNY 1 bdrm @SoHo killer apt!   \n",
      "8229    3045351   7/24/2012  Fab Furnished Bdrm in W. Vill share   \n",
      "8799    3369487   8/25/2012        Cute Studio near Union Square   \n",
      "9465    3788933   10/7/2012      Artists' Brooklyn Railroad Apt.   \n",
      "9480    3804521   10/8/2012   Private Large Bedroom in Bay Ridge   \n",
      "9932    4080391   11/6/2012                 Upper West Side, NYC   \n",
      "10176   4168573  11/16/2012   UES room just steps frm Central Pk   \n",
      "10869   4473954  12/23/2012    UPPER WEST SIDE HISTORIC DISTRICT   \n",
      "10890   4491381  12/25/2012       Quiet & Comfy Manhattan Studio   \n",
      "11212   4741190   1/17/2013                   Furnished Bedroom.   \n",
      "11336   4863701   1/27/2013  Beautiful room in a cool apt in BK!   \n",
      "11366   4873790   1/28/2013    Big, Private Room in Spacious Apt   \n",
      "11802   5211589   2/24/2013  West Village 1 Bdrm Apt in Lux Bldn   \n",
      "12592   5909599   4/13/2013                 Cute room in Astoria   \n",
      "12982   6255954    5/6/2013  Very cute Flatiron apartment rental   \n",
      "13614   6804007    6/8/2013               Monoambiente en el UES   \n",
      "13985   7130382   6/26/2013  NYC - CLINTON HILL - FURNISHED ROOM   \n",
      "14471   7659349   7/22/2013   Private Room in Brooklyn Townhouse   \n",
      "16024   9503874  10/18/2013     Cheery Brooklyn Heights Studio!!   \n",
      "16494  10001364  11/13/2013    Private room in East Williamsburg   \n",
      "16576  10088545  11/18/2013      2 bedroom in financial district   \n",
      "17365  10886276  12/29/2013          charming brooklyn apartment   \n",
      "17474  11004770    1/4/2014             Charming Private Bedroom   \n",
      "17744  11395220   1/17/2014   Charming, Bright, Airy One Bedroom   \n",
      "19234  14300319   4/15/2014      Lower Level Duplex, 2 Twin Beds   \n",
      "19387  14609026   4/22/2014              A gem in a crowded city   \n",
      "19423  14696924   4/24/2014     Cozy Room in Trendy East Village   \n",
      "19981  15792755   5/21/2014    Huge Room Prospect Park Brooklyn!   \n",
      "20665  17065639   6/21/2014            private furnished bedroom   \n",
      "21381  18212433   7/16/2014  Private room w/your own keys-2 beds   \n",
      "23589  22629512  10/16/2014          Cozy Upper East Side Studio   \n",
      "26832  15979279    4/4/2015       West Village - Home from home!   \n",
      "26960  31034014   4/11/2015       Beautifully Modern in Bed-Stuy   \n",
      "\n",
      "      Neighbourhood  Property Type  Review Scores Rating (bin)  \\\n",
      "62         Manhattan     Apartment                       100.0   \n",
      "142    Staten Island         House                        95.0   \n",
      "470         Brooklyn     Apartment                        75.0   \n",
      "1821       Manhattan     Apartment                        90.0   \n",
      "1885       Manhattan     Apartment                       100.0   \n",
      "2438       Manhattan     Apartment                        95.0   \n",
      "5105       Manhattan     Apartment                        85.0   \n",
      "5842       Manhattan     Apartment                        90.0   \n",
      "6493        Brooklyn     Apartment                        80.0   \n",
      "7089        Brooklyn     Apartment                       100.0   \n",
      "7385        Brooklyn     Apartment                       100.0   \n",
      "7668       Manhattan     Apartment                       100.0   \n",
      "8229       Manhattan     Apartment                        90.0   \n",
      "8799       Manhattan     Apartment                        95.0   \n",
      "9465        Brooklyn     Apartment                        95.0   \n",
      "9480        Brooklyn     Apartment                       100.0   \n",
      "9932       Manhattan     Apartment                        70.0   \n",
      "10176      Manhattan     Apartment                        85.0   \n",
      "10869      Manhattan     Apartment                        80.0   \n",
      "10890      Manhattan     Apartment                        85.0   \n",
      "11212       Brooklyn          Dorm                        85.0   \n",
      "11336       Brooklyn     Apartment                       100.0   \n",
      "11366      Manhattan     Apartment                        90.0   \n",
      "11802      Manhattan     Apartment                        95.0   \n",
      "12592         Queens     Apartment                       100.0   \n",
      "12982      Manhattan     Apartment                        95.0   \n",
      "13614      Manhattan     Apartment                       100.0   \n",
      "13985       Brooklyn     Apartment                       100.0   \n",
      "14471       Brooklyn         House                        80.0   \n",
      "16024       Brooklyn     Apartment                        90.0   \n",
      "16494       Brooklyn     Apartment                       100.0   \n",
      "16576      Manhattan     Apartment                        90.0   \n",
      "17365       Brooklyn     Apartment                        90.0   \n",
      "17474         Queens     Apartment                        80.0   \n",
      "17744      Manhattan     Apartment                        95.0   \n",
      "19234       Brooklyn     Apartment                        90.0   \n",
      "19387      Manhattan     Apartment                       100.0   \n",
      "19423      Manhattan     Apartment                        90.0   \n",
      "19981       Brooklyn     Apartment                        95.0   \n",
      "20665      Manhattan     Apartment                       100.0   \n",
      "21381      Manhattan     Apartment                        80.0   \n",
      "23589      Manhattan     Apartment                        80.0   \n",
      "26832      Manhattan     Apartment                       100.0   \n",
      "26960       Brooklyn     Apartment                       100.0   \n",
      "\n",
      "             Room Type  Zipcode  Beds  Number of Records  Number Of Reviews  \\\n",
      "62        Private room  10009.0   NaN                  1                  3   \n",
      "142       Private room  10304.0   NaN                  1                  7   \n",
      "470    Entire home/apt  11231.0   NaN                  1                  7   \n",
      "1821   Entire home/apt  10013.0   NaN                  1                 21   \n",
      "1885      Private room  10014.0   NaN                  1                  2   \n",
      "2438      Private room  10009.0   NaN                  1                  2   \n",
      "5105      Private room  10002.0   NaN                  1                 81   \n",
      "5842      Private room  10003.0   NaN                  1                  3   \n",
      "6493   Entire home/apt  11206.0   NaN                  1                  2   \n",
      "7089   Entire home/apt  11238.0   NaN                  1                  1   \n",
      "7385   Entire home/apt  11217.0   NaN                  1                  2   \n",
      "7668   Entire home/apt  10012.0   NaN                  1                  3   \n",
      "8229      Private room  10014.0   NaN                  1                 10   \n",
      "8799   Entire home/apt  10003.0   NaN                  1                 10   \n",
      "9465      Private room  11237.0   NaN                  1                  1   \n",
      "9480      Private room  11220.0   NaN                  1                  1   \n",
      "9932   Entire home/apt  10025.0   NaN                  1                  1   \n",
      "10176     Private room  10128.0   NaN                  1                  3   \n",
      "10869  Entire home/apt  10024.0   NaN                  1                  1   \n",
      "10890  Entire home/apt  10011.0   NaN                  1                  5   \n",
      "11212     Private room  11208.0   NaN                  1                  5   \n",
      "11336  Entire home/apt  11221.0   NaN                  1                  1   \n",
      "11366     Private room  10002.0   NaN                  1                 15   \n",
      "11802  Entire home/apt  10014.0   NaN                  1                 19   \n",
      "12592     Private room  11105.0   NaN                  1                  9   \n",
      "12982  Entire home/apt  10010.0   NaN                  1                  2   \n",
      "13614  Entire home/apt  10028.0   NaN                  1                  3   \n",
      "13985     Private room      NaN   NaN                  1                  1   \n",
      "14471     Private room  11217.0   NaN                  1                  2   \n",
      "16024  Entire home/apt  11201.0   NaN                  1                  7   \n",
      "16494     Private room  11206.0   NaN                  1                  4   \n",
      "16576  Entire home/apt  10005.0   NaN                  1                 27   \n",
      "17365  Entire home/apt  11213.0   NaN                  1                 10   \n",
      "17474     Private room  11106.0   NaN                  1                  1   \n",
      "17744  Entire home/apt  10003.0   NaN                  1                 28   \n",
      "19234     Private room  11237.0   NaN                  1                 10   \n",
      "19387     Private room  10039.0   NaN                  1                  1   \n",
      "19423     Private room  10009.0   NaN                  1                  6   \n",
      "19981     Private room  11225.0   NaN                  1                 11   \n",
      "20665     Private room  10065.0   NaN                  1                  1   \n",
      "21381     Private room  10033.0   NaN                  1                  2   \n",
      "23589  Entire home/apt  10028.0   NaN                  1                  1   \n",
      "26832  Entire home/apt  10014.0   NaN                  1                  1   \n",
      "26960  Entire home/apt  11206.0   NaN                  1                  1   \n",
      "\n",
      "       Price  Review Scores Rating  \n",
      "62       125                 100.0  \n",
      "142       69                  97.0  \n",
      "470      145                  79.0  \n",
      "1821     300                  92.0  \n",
      "1885     149                 100.0  \n",
      "2438      80                  99.0  \n",
      "5105      75                  86.0  \n",
      "5842     110                  91.0  \n",
      "6493     110                  80.0  \n",
      "7089     500                 100.0  \n",
      "7385     150                 100.0  \n",
      "7668     224                 100.0  \n",
      "8229     125                  94.0  \n",
      "8799     199                  96.0  \n",
      "9465     100                  97.0  \n",
      "9480      58                 100.0  \n",
      "9932     150                  70.0  \n",
      "10176    115                  87.0  \n",
      "10869    175                  80.0  \n",
      "10890    150                  88.0  \n",
      "11212     60                  87.0  \n",
      "11336     40                 100.0  \n",
      "11366    100                  92.0  \n",
      "11802    250                  99.0  \n",
      "12592    100                 100.0  \n",
      "12982    200                  98.0  \n",
      "13614    650                 100.0  \n",
      "13985     70                 100.0  \n",
      "14471    110                  80.0  \n",
      "16024    160                  93.0  \n",
      "16494     40                 100.0  \n",
      "16576    220                  94.0  \n",
      "17365     98                  90.0  \n",
      "17474     79                  80.0  \n",
      "17744    200                  95.0  \n",
      "19234     85                  93.0  \n",
      "19387     70                 100.0  \n",
      "19423    100                  90.0  \n",
      "19981     70                  96.0  \n",
      "20665    145                 100.0  \n",
      "21381     80                  80.0  \n",
      "23589    150                  80.0  \n",
      "26832    260                 100.0  \n",
      "26960    120                 100.0  \n"
     ]
    }
   ],
   "source": [
    "## Question (2)\n",
    "\n",
    "# Checking for NaN values in the specified column\n",
    "    # I repeated this for all the columns\n",
    "    \n",
    "column_name = 'Review Scores Rating'\n",
    "nan_check = nadf[column_name].isna()\n",
    "\n",
    "# Printing the rows where NaN values are present\n",
    "# print(adf[nan_check])\n",
    "\n",
    "# Price = No Nans\n",
    "# Beds = 85 Rows of Nan    --> I'm just going to remove all NAs because it's not a lot\n",
    "\n",
    "adf = nadf.dropna(subset=['Beds'])   # removing NAs\n",
    "column_name = 'Beds'\n",
    "nan_check = nadf[column_name].isna()\n",
    "\n",
    "# Printing the rows where NaN values are present\n",
    "# print(adf[nan_check])\n",
    "\n",
    "\n",
    "# Number Of Reviews = no nans\n",
    "\n",
    "# Review Scores Rating = 8323 rows of Nan --> I'm just going to remove all NAs because there will still be lots of data\n",
    "nadf = nadf.dropna(subset=['Review Scores Rating'])   # removing NAs\n",
    "column_name = 'Beds'\n",
    "nan_check = nadf[column_name].isna()\n",
    "print(nadf[nan_check])      # NAs removed\n",
    "\n"
   ]
  },
  {
   "cell_type": "code",
   "execution_count": 167,
   "metadata": {},
   "outputs": [],
   "source": [
    "## Question (2) Price x Beds\n",
    "\n",
    "from sklearn.cluster import KMeans\n",
    "\n",
    "def maxmin(x): # Max-min scaler function\n",
    "    x = (x-min(x))/(max(x)-min(x))\n",
    "    return x\n",
    "\n",
    "# Preprocess the data:\n",
    "X = nadf.loc[ : , ['Price','Beds'] ] # Select data to cluster\n",
    "X = X.apply(maxmin) # Normalize the data\n",
    "\n",
    "# Preprocess the data:\n",
    "Y = nadf.loc[ : , ['Price','Number Of Reviews'] ] # Select data to cluster\n",
    "Y = Y.apply(maxmin) # Normalize the data\n",
    "\n",
    "# Preprocess the data:\n",
    "Z = nadf.loc[ : , ['Price','Review Scores Rating'] ] # Select data to cluster\n",
    "Z = Z.apply(maxmin) # Normalize the data"
   ]
  },
  {
   "cell_type": "code",
   "execution_count": 173,
   "metadata": {},
   "outputs": [
    {
     "data": {
      "text/plain": [
       "Text(0.5, 1.0, 'The Data')"
      ]
     },
     "execution_count": 173,
     "metadata": {},
     "output_type": "execute_result"
    },
    {
     "data": {
      "image/png": "[encoded data removed]",
      "text/plain": [
       "<Figure size 432x288 with 1 Axes>"
      ]
     },
     "metadata": {
      "needs_background": "light"
     },
     "output_type": "display_data"
    }
   ],
   "source": [
    "## Question (3)\n",
    "\n",
    "from sklearn.cluster import KMeans\n",
    "\n",
    "sns.scatterplot(data=nadf,x='Beds',y='Price').set_title('The Data')"
   ]
  },
  {
   "cell_type": "code",
   "execution_count": 169,
   "metadata": {},
   "outputs": [
    {
     "data": {
      "text/plain": [
       "Text(0.5, 1.0, 'The Data')"
      ]
     },
     "execution_count": 169,
     "metadata": {},
     "output_type": "execute_result"
    },
    {
     "data": {
      "image/png": "[encoded data removed]",
      "text/plain": [
       "<Figure size 432x288 with 1 Axes>"
      ]
     },
     "metadata": {
      "needs_background": "light"
     },
     "output_type": "display_data"
    }
   ],
   "source": [
    "sns.scatterplot(data=nadf,x='Number Of Reviews',y='Price').set_title('The Data')"
   ]
  },
  {
   "cell_type": "code",
   "execution_count": 170,
   "metadata": {},
   "outputs": [
    {
     "data": {
      "text/plain": [
       "Text(0.5, 1.0, 'The Data')"
      ]
     },
     "execution_count": 170,
     "metadata": {},
     "output_type": "execute_result"
    },
    {
     "data": {
      "image/png": "[encoded data removed]",
      "text/plain": [
       "<Figure size 432x288 with 1 Axes>"
      ]
     },
     "metadata": {
      "needs_background": "light"
     },
     "output_type": "display_data"
    }
   ],
   "source": [
    "sns.scatterplot(data=nadf,x='Review Scores Rating',y='Price').set_title('The Data')"
   ]
  },
  {
   "cell_type": "code",
   "execution_count": null,
   "metadata": {},
   "outputs": [],
   "source": []
  },
  {
   "cell_type": "code",
   "execution_count": null,
   "metadata": {},
   "outputs": [],
   "source": []
  },
  {
   "cell_type": "code",
   "execution_count": null,
   "metadata": {},
   "outputs": [],
   "source": []
  },
  {
   "cell_type": "code",
   "execution_count": 71,
   "metadata": {},
   "outputs": [
    {
     "name": "stdout",
     "output_type": "stream",
     "text": [
      "0        False\n",
      "1        False\n",
      "2        False\n",
      "3        False\n",
      "4        False\n",
      "         ...  \n",
      "30473    False\n",
      "30474    False\n",
      "30475    False\n",
      "30476    False\n",
      "30477    False\n",
      "Name: Beds, Length: 30393, dtype: bool\n"
     ]
    }
   ],
   "source": [
    "column_name = 'Beds'\n",
    "nan_check = adf[column_name].isna()\n",
    "print(nan_check)\n",
    "\n",
    "# adf.loc[0:50, ['Review Scores Rating']]"
   ]
  }
 ],
 "metadata": {
  "kernelspec": {
   "display_name": "Python 3",
   "language": "python",
   "name": "python3"
  },
  "language_info": {
   "codemirror_mode": {
    "name": "ipython",
    "version": 3
   },
   "file_extension": ".py",
   "mimetype": "text/x-python",
   "name": "python",
   "nbconvert_exporter": "python",
   "pygments_lexer": "ipython3",
   "version": "3.8.8"
  }
 },
 "nbformat": 4,
 "nbformat_minor": 4
}
