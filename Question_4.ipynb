{
 "cells": [
  {
   "cell_type": "markdown",
   "metadata": {},
   "source": [
    "## Question 4"
   ]
  },
  {
   "cell_type": "code",
   "execution_count": null,
   "metadata": {},
   "outputs": [],
   "source": [
    "from keras.datasets import mnist\n",
    "df = mnist.load_data('minst.db')\n",
    "train,test = df\n",
    "X_train, y_train = train\n",
    "X_test, y_test = test"
   ]
  },
  {
   "cell_type": "code",
   "execution_count": null,
   "metadata": {},
   "outputs": [],
   "source": [
    "import matplotlib.pyplot as plt\n",
    "import numpy as np\n",
    "np.set_printoptions(edgeitems=30, linewidth=100000)\n",
    "for i in range(5):\n",
    "    print(y_test[i],'\\n') # Print the label\n",
    "    print(X_test[i],'\\n') # Print the matrix of values\n",
    "    plt.contourf(np.rot90(X_test[i].transpose())) # Make a contour plot of the matrix values\n",
    "    plt.show()"
   ]
  },
  {
   "cell_type": "code",
   "execution_count": null,
   "metadata": {},
   "outputs": [],
   "source": [
    "x_train_shape = f\"The shape of X Train is {X_train.shape}\"\n",
    "print(x_train_shape)\n",
    "print('\\n')\n",
    "\n",
    "x_test_shape = f\"The shape of X Test is {X_test.shape}\"\n",
    "print(x_test_shape)\n",
    "print('\\n')\n",
    "\n",
    "x_traini_shape = f\"The shape of X Train[i] is {X_train[i].shape}\"\n",
    "print(x_traini_shape)\n",
    "print('\\n')\n",
    "\n",
    "x_testi_shape = f\"The shape of X Test[i] is {X_test[i].shape}\"\n",
    "print(x_testi_shape)\n",
    "print('\\n')\n",
    "\n",
    "y_train_shape = f\"The shape of y Train is {y_train.shape}\"\n",
    "print(y_train_shape)\n",
    "print('\\n')\n",
    "\n",
    "y_test_shape = f\"The shape of y Test is {y_test.shape}\"\n",
    "print(y_test_shape)\n",
    "print('\\n')"
   ]
  },
  {
   "cell_type": "code",
   "execution_count": null,
   "metadata": {},
   "outputs": [],
   "source": [
    "# The for loop was taking too long to load, so I got some help from chatgpt. \n",
    "\n",
    "# Reshape X_train as shown above\n",
    "X_train_reshaped = X_train.reshape(X_train.shape[0], -1)\n",
    "\n",
    "X_test_reshaped = X_test.reshape(X_test.shape[0], -1)\n",
    "\n",
    "y_test_reshaped = y_test.reshape(y_test.shape[0], -1)\n",
    "\n",
    "\n",
    "print(X_train_reshaped.shape)\n",
    "print(X_test_reshaped.shape)\n",
    "print(y_test_reshaped.shape)\n"
   ]
  },
  {
   "cell_type": "code",
   "execution_count": null,
   "metadata": {},
   "outputs": [],
   "source": [
    "from sklearn.neighbors import KNeighborsClassifier\n",
    "from sklearn.model_selection import cross_val_score\n",
    "import numpy as np\n",
    "\n",
    "\n",
    "# First we need a list of possible k values to test on\n",
    "k_values = list(range(1, 21))  # This is a list of possible k values\n",
    "\n",
    "cross_val_scores = [] # Making a list for cross-validation results\n",
    "\n",
    "# Using a for loop to test the set multiple times\n",
    "for k in k_values:\n",
    "    \n",
    "    # Using the sklearn package to simplify the Knn code\n",
    "    # looping through each k in the knn test\n",
    "    knn_classifier = KNeighborsClassifier(n_neighbors=k) \n",
    "\n",
    "    # Doing 5 tests on each k and saving it to scores\n",
    "    scores = cross_val_score(knn_classifier, X_test_reshaped, y_test, cv=5)\n",
    "\n",
    "    # Calculate the mean accuracy for the current k based on scores \n",
    "    mean_accuracy = np.mean(scores)\n",
    "\n",
    "    # Store the mean accuracy in the list\n",
    "    cross_val_scores.append(mean_accuracy)\n",
    "\n",
    "optimal_k = k_values[np.argmax(cross_val_scores)] # finding the best k based\n",
    "# on the highest overall mean accuracy score\n",
    "\n",
    "print(f\"Best k value: {optimal_k}\") # printing the best k value\n",
    "print(f\"The mean accuracy with the best k value: {max(cross_val_scores)}\") # This prints the highest mean accuracy of the k value"
   ]
  },
  {
   "cell_type": "markdown",
   "metadata": {},
   "source": [
    "The above two code blocks were in part generated using the GPT-3.5 model by OpenAI.\n",
    "Developed by OpenAI.\n",
    "Model information and documentation: https://openai.com/gpt-3.5"
   ]
  },
  {
   "cell_type": "markdown",
   "metadata": {},
   "source": [
    "## Part (5)"
   ]
  },
  {
   "cell_type": "markdown",
   "metadata": {},
   "source": [
    "The predictor performs at a 94.4% accuracy according to this classifer example. However, there is always risk with a small k that the model is overfitting the data, and would not perform well on new data. "
   ]
  },
  {
   "cell_type": "code",
   "execution_count": null,
   "metadata": {},
   "outputs": [],
   "source": []
  }
 ],
 "metadata": {
  "kernelspec": {
   "display_name": "Python 3",
   "language": "python",
   "name": "python3"
  },
  "language_info": {
   "codemirror_mode": {
    "name": "ipython",
    "version": 3
   },
   "file_extension": ".py",
   "mimetype": "text/x-python",
   "name": "python",
   "nbconvert_exporter": "python",
   "pygments_lexer": "ipython3",
   "version": "3.8.8"
  }
 },
 "nbformat": 4,
 "nbformat_minor": 4
}
